{
 "cells": [
  {
   "cell_type": "code",
   "execution_count": 81,
   "metadata": {},
   "outputs": [],
   "source": [
    "# primarily based on CFA Level II Volumn 3 Corporate Finance text\n",
    "#project cash flow and project valuation\n",
    "import numpy as np\n",
    "import random\n",
    "import matplotlib.pyplot as plt"
   ]
  },
  {
   "cell_type": "code",
   "execution_count": 44,
   "metadata": {},
   "outputs": [
    {
     "data": {
      "text/plain": [
       "9.8"
      ]
     },
     "execution_count": 44,
     "metadata": {},
     "output_type": "execute_result"
    }
   ],
   "source": [
    "# initial outlay for a new investment\n",
    "FCInv=10 #investment in new fixed capital\n",
    "NWCInv=1 #investment in net working capital\n",
    "Sal0=1 #cash proceeds (salvage value) from the sale of old fixed capital\n",
    "B0=2 #book value of old fixed capital\n",
    "T=.2\n",
    "\n",
    "outlay=FCInv+NWCInv-Sal0+T*(Sal0-B0)\n",
    "outlay"
   ]
  },
  {
   "cell_type": "code",
   "execution_count": 45,
   "metadata": {},
   "outputs": [
    {
     "data": {
      "text/plain": [
       "7.4"
      ]
     },
     "execution_count": 45,
     "metadata": {},
     "output_type": "execute_result"
    }
   ],
   "source": [
    "# annual after-tax operating cash flow\n",
    "S=10 #sales\n",
    "C=1 #cash operating expenses\n",
    "D=1 #depreciation charge \n",
    "T=.2\n",
    "CF=(S-C-D)*(1-T)+D\n",
    "CF"
   ]
  },
  {
   "cell_type": "code",
   "execution_count": 46,
   "metadata": {},
   "outputs": [
    {
     "data": {
      "text/plain": [
       "9.2"
      ]
     },
     "execution_count": 46,
     "metadata": {},
     "output_type": "execute_result"
    }
   ],
   "source": [
    "# terminal year after-tax non-operating cash flow\n",
    "SalT=10 #cash proceeds (salvage value) from sale fo fixed capital on terminal date\n",
    "BT=1 #book value of fixed capital on termination date\n",
    "\n",
    "TNOCF=SalT+NWCInv-T*(SalT-BT)\n",
    "TNOCF"
   ]
  },
  {
   "cell_type": "code",
   "execution_count": 47,
   "metadata": {},
   "outputs": [
    {
     "data": {
      "text/plain": [
       "array([-9.8,  7.4, 16.6])"
      ]
     },
     "execution_count": 47,
     "metadata": {},
     "output_type": "execute_result"
    }
   ],
   "source": [
    "t=2\n",
    "r=.08\n",
    "cfSeries=np.repeat(CF,t)\n",
    "cfSeries=np.insert(cfSeries,0,-outlay)\n",
    "cfSeries[-1]=cfSeries[-1]+TNOCF\n",
    "cfSeries"
   ]
  },
  {
   "cell_type": "code",
   "execution_count": 58,
   "metadata": {},
   "outputs": [
    {
     "name": "stderr",
     "output_type": "stream",
     "text": [
      "/opt/anaconda3/lib/python3.7/site-packages/ipykernel_launcher.py:5: DeprecationWarning: numpy.npv is deprecated and will be removed from NumPy 1.20. Use numpy_financial.npv instead (https://pypi.org/project/numpy-financial/).\n",
      "  \"\"\"\n"
     ]
    },
    {
     "data": {
      "text/plain": [
       "11.283676268861452"
      ]
     },
     "execution_count": 58,
     "metadata": {},
     "output_type": "execute_result"
    }
   ],
   "source": [
    "def getProjNPV_repCF(outlay,CF,TNOCF,t,r):\n",
    "    cfSeries=np.repeat(CF,t)\n",
    "    cfSeries=np.insert(cfSeries,0,-outlay)\n",
    "    cfSeries[-1]=cfSeries[-1]+TNOCF\n",
    "    pNPV=np.npv(r,cfSeries ) #np.npv input cash flow series starts with t=0\n",
    "    return pNPV\n",
    "getProjNPV_repCF(outlay,CF,TNOCF,t,r)"
   ]
  },
  {
   "cell_type": "code",
   "execution_count": 61,
   "metadata": {},
   "outputs": [
    {
     "name": "stderr",
     "output_type": "stream",
     "text": [
      "/opt/anaconda3/lib/python3.7/site-packages/ipykernel_launcher.py:5: DeprecationWarning: numpy.npv is deprecated and will be removed from NumPy 1.20. Use numpy_financial.npv instead (https://pypi.org/project/numpy-financial/).\n",
      "  \"\"\"\n"
     ]
    },
    {
     "data": {
      "text/plain": [
       "162216.875399718"
      ]
     },
     "execution_count": 61,
     "metadata": {},
     "output_type": "execute_result"
    }
   ],
   "source": [
    "outlay=230000\n",
    "CF=92000\n",
    "TNOCF=70000\n",
    "t=5\n",
    "r=.1\n",
    "getProjNPV_repCF(outlay,CF,TNOCF,t,r)"
   ]
  },
  {
   "cell_type": "code",
   "execution_count": 118,
   "metadata": {},
   "outputs": [
    {
     "name": "stderr",
     "output_type": "stream",
     "text": [
      "/opt/anaconda3/lib/python3.7/site-packages/ipykernel_launcher.py:5: DeprecationWarning: numpy.npv is deprecated and will be removed from NumPy 1.20. Use numpy_financial.npv instead (https://pypi.org/project/numpy-financial/).\n",
      "  \"\"\"\n"
     ]
    },
    {
     "name": "stdout",
     "output_type": "stream",
     "text": [
      "Mean NPV = 162356.74585430606\n"
     ]
    },
    {
     "data": {
      "image/png": "[encoded data removed]",
      "text/plain": [
       "<Figure size 432x288 with 1 Axes>"
      ]
     },
     "metadata": {
      "needs_background": "light"
     },
     "output_type": "display_data"
    }
   ],
   "source": [
    "# monte carlo simulation\n",
    "trialNum=10000\n",
    "l=[]\n",
    "for i in np.arange(trialNum):\n",
    "    layout=random.normalvariate(230000,200) \n",
    "    CF=random.normalvariate(92000,1000)\n",
    "    TNOCF=random.normalvariate(70000,500) \n",
    "    t=5\n",
    "    r=random.normalvariate(.1,.01)\n",
    "    l.append(getProjNPV_repCF(layout,CF,TNOCF,t,r))\n",
    "\n",
    "\n",
    "\n",
    "print(\"Mean NPV =\", np.mean(l))    \n",
    "plt.figure()\n",
    "plt.annotate('number of trails:'+str(trialNum), xy=(0.65, 0.95), xycoords='axes fraction')\n",
    "plt.hist(l)\n",
    "plt.title('Project NPVs from Monte Carlo Simulation')\n",
    "plt.axvline(x=np.mean(l), color='black',linestyle='--')\n",
    "plt.show()"
   ]
  },
  {
   "cell_type": "code",
   "execution_count": null,
   "metadata": {},
   "outputs": [],
   "source": [
    "# scenario analysis\n",
    "# base case\n",
    "\n",
    "\n",
    "\n",
    "\n",
    "\n",
    "\n",
    "# worse case\n",
    "\n",
    "\n",
    "\n",
    "\n",
    "\n",
    "# "
   ]
  },
  {
   "cell_type": "code",
   "execution_count": 77,
   "metadata": {},
   "outputs": [],
   "source": []
  },
  {
   "cell_type": "code",
   "execution_count": null,
   "metadata": {},
   "outputs": [],
   "source": []
  }
 ],
 "metadata": {
  "kernelspec": {
   "display_name": "Python 3",
   "language": "python",
   "name": "python3"
  },
  "language_info": {
   "codemirror_mode": {
    "name": "ipython",
    "version": 3
   },
   "file_extension": ".py",
   "mimetype": "text/x-python",
   "name": "python",
   "nbconvert_exporter": "python",
   "pygments_lexer": "ipython3",
   "version": "3.7.6"
  }
 },
 "nbformat": 4,
 "nbformat_minor": 4
}
